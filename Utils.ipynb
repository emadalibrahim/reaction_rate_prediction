{
 "cells": [
  {
   "cell_type": "markdown",
   "metadata": {},
   "source": [
    "## Define Modified Arrhenius function\n",
    "Outputs:\n",
    "- k\t=\trate constant\n",
    "\n",
    "Takes in:\n",
    "- A\t=\tpre-exponential factor\n",
    "- n\t=\tTemperature dependence factor\n",
    "- B\t=\tactivation energy divided by universal gas constant ($E_a/R$)\n",
    "- T\t=\tabsolute temperature (in Kelvin)"
   ]
  },
  {
   "cell_type": "code",
   "execution_count": 9,
   "metadata": {},
   "outputs": [
    {
     "data": {
      "text/plain": [
       "tensor(-inf)"
      ]
     },
     "execution_count": 9,
     "metadata": {},
     "output_type": "execute_result"
    }
   ],
   "source": [
    "import torch\n",
    "def arrhenius(A,n,B,T):\n",
    "    eps=1e-30 # Tolerance to avoid -inf  \n",
    "    logk = torch.log10(torch.abs( A*torch.pow(T/300,n)*torch.exp(-B/(T)) )+eps)\n",
    "    return logk"
   ]
  },
  {
   "cell_type": "markdown",
   "metadata": {},
   "source": [
    "## Plotting functions\n",
    "Plots results"
   ]
  },
  {
   "cell_type": "code",
   "execution_count": 5,
   "metadata": {
    "collapsed": true
   },
   "outputs": [],
   "source": [
    "import matplotlib.pyplot as plt\n",
    "\n",
    "def plot_loss(loss):\n",
    "    plt.figure(0)\n",
    "    plt.plot(loss['train'], label='Training loss')\n",
    "    plt.plot(loss['valid'], label='Validation loss')\n",
    "    plt.legend(bbox_to_anchor=(1.5, 1))\n",
    "    plt.xlabel('Epochs')\n",
    "    plt.ylabel('Loss')\n",
    "\n",
    "def plot_results(actual,predicted,temperature):\n",
    "    plt.figure(1)\n",
    "    plt.plot(actual,predicted,'.')\n",
    "    plt.plot(actual,actual)\n",
    "    plt.title('Actual vs. predicted')\n",
    "    plt.xlabel('Actual $log_{10}(k)$')\n",
    "    plt.ylabel('Predicted $log_{10}(k)$')\n",
    "    plt.figure(2)\n",
    "    plt.plot(temperature,actual-predicted,'.')\n",
    "    plt.title('Temperature dependent residual')\n",
    "    plt.xlabel('Temperature [K]')\n",
    "    plt.ylabel('Residual')\n",
    "\n",
    "            \n",
    "def plot_arrhenius_params(target,A,n,B):\n",
    "    plt.figure(3)\n",
    "    plt.plot(target[:,1],A.cpu().detach().numpy(),'.')\n",
    "    plt.plot(target[:,1],target[:,1])\n",
    "    plt.title('Pre-exponential factor (log-log scale)')\n",
    "    plt.xlabel('Actual A')\n",
    "    plt.ylabel('Predicted A')\n",
    "    plt.figure(4)\n",
    "    plt.plot(target[:,2],B.cpu().detach().numpy(),'.')\n",
    "    plt.plot(target[:,2],target[:,2])\n",
    "    plt.title('Normalized activation energy $B=E_a/R$')\n",
    "    plt.xlabel('Actual B')\n",
    "    plt.ylabel('Predicted B')\n",
    "    plt.figure(5)\n",
    "    plt.plot(target[:,3],n.cpu().detach().numpy(),'.')\n",
    "    plt.plot(target[:,3],target[:,3])\n",
    "    plt.title('Temperature dependence factor')\n",
    "    plt.xlabel('Actual n')\n",
    "    plt.ylabel('Predicted n')"
   ]
  },
  {
   "cell_type": "code",
   "execution_count": 1,
   "metadata": {
    "collapsed": true
   },
   "outputs": [],
   "source": [
    "import numpy as np\n",
    "\n",
    "def calculate_error(target,Prediction):\n",
    "    MAE = np.mean(np.abs(target-Prediction))\n",
    "    RMS = np.sqrt(((target-Prediction)**2).mean())\n",
    "    Rsq = np.corrcoef(target,Prediction)[0,1]**2\n",
    "    return(MAE,RMS,Rsq)\n",
    "\n",
    "\n",
    "def print_error(target,Prediction):\n",
    "\n",
    "    if type(target)==torch.Tensor:\n",
    "        target = target.detach().numpy()\n",
    "    if type(Prediction)==torch.Tensor:\n",
    "        Precition = Prediction.detach().numpy()\n",
    "\n",
    "    if target.shape[1]>3:\n",
    "        print('Prediction error for OH ; O3 ; NO3 ; Cl')\n",
    "    MAE = np.zeros([target.shape[1]])\n",
    "    RMS = np.zeros([target.shape[1]])\n",
    "    Rsq = np.zeros([target.shape[1]])\n",
    "    for i in range(target.shape[1]):\n",
    "        MAE[i],RMS[i],Rsq[i] = calculate_error(target[~np.isnan(target[:,i]),i],\n",
    "                                               Prediction[~np.isnan(target[:,i]),i])\n",
    "    print('MAE',np.round(MAE,3))\n",
    "    print('RMS',np.round(RMS,3))\n",
    "    print('Rsq',np.round(Rsq,3))\n",
    "    return(RMS)\n"
   ]
  },
  {
   "cell_type": "code",
   "execution_count": null,
   "metadata": {
    "collapsed": true
   },
   "outputs": [],
   "source": [
    "import random\n",
    "def set_seed(seed):\n",
    "    print(\"Set Seed to\",seed)\n",
    "    np.random.seed(seed)\n",
    "    random.seed(seed)\n",
    "    torch.manual_seed(seed)\n",
    "    torch.cuda.manual_seed_all(seed)\n",
    "    torch.cuda.manual_seed(seed)\n",
    "    torch.backends.cudnn.deterministic = True\n",
    "    torch.backends.cudnn.benchmark = False"
   ]
  }
 ],
 "metadata": {
  "kernelspec": {
   "display_name": "chemprop",
   "language": "python",
   "name": "chemprop"
  },
  "language_info": {
   "codemirror_mode": {
    "name": "ipython",
    "version": 3
   },
   "file_extension": ".py",
   "mimetype": "text/x-python",
   "name": "python",
   "nbconvert_exporter": "python",
   "pygments_lexer": "ipython3",
   "version": "3.8.5"
  }
 },
 "nbformat": 4,
 "nbformat_minor": 2
}
