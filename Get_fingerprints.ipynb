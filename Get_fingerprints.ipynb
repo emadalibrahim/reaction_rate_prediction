{
 "cells": [
  {
   "cell_type": "markdown",
   "metadata": {},
   "source": [
    "## Fingerprint File\n",
    "This file calculates Morgan fingerprints from Rdkit and loads optimized fingerprints from Chemprop\n",
    "\n",
    "Kevin Yang, Kyle Swanson, Wengong Jin, Connor Coley, Philipp Eiden, Hua Gao, Angel Guzman-Perez, Timothy Hopper, Brian Kelley, Miriam Mathea, Andrew Palmer, Volker Settels, Tommi Jaakkola, Klavs Jensen, and Regina Barzilay\n",
    "Journal of Chemical Information and Modeling 2019 59 (8), 3370-3388\n",
    "DOI: 10.1021/acs.jcim.9b00237"
   ]
  },
  {
   "cell_type": "markdown",
   "metadata": {},
   "source": [
    "## Calculate fingerprints from Rdkit"
   ]
  },
  {
   "cell_type": "code",
   "execution_count": 11,
   "metadata": {},
   "outputs": [],
   "source": [
    "import numpy as np\n",
    "from rdkit import Chem, DataStructs\n",
    "from rdkit.Chem import AllChem\n",
    "\n",
    "def get_rdkit_fingerprint(df):\n",
    "    MORGAN_RADIUS = 2\n",
    "    MORGAN_NUM_BITS = 2048\n",
    "    features = np.zeros((1,))\n",
    "    fingerprints = np.zeros([df.shape[0],MORGAN_NUM_BITS])\n",
    "    for i in range(df.shape[0]):\n",
    "        mol = Chem.MolFromSmiles(df.smiles[i])\n",
    "        features_vec = AllChem.GetHashedMorganFingerprint(mol, MORGAN_RADIUS, nBits=MORGAN_NUM_BITS)\n",
    "        #features_vec = AllChem.GetMorganFingerprintAsBitVect(mol, MORGAN_RADIUS, nBits=MORGAN_NUM_BITS)\n",
    "        DataStructs.ConvertToNumpyArray(features_vec, features)\n",
    "        fingerprints[i,:] = features\n",
    "    fingerprints=pd.DataFrame(fingerprints)\n",
    "    return fingerprints"
   ]
  },
  {
   "cell_type": "markdown",
   "metadata": {},
   "source": [
    "## Load optimized feature vector from Chemprop\n",
    "Chemprop fingerprints are obtained from the message passing protocol via transfer learning done on the QM9 dataset\n",
    "\n",
    "L. Ruddigkeit, R. van Deursen, L. C. Blum, J.-L. Reymond, Enumeration of 166 billion organic small molecules in the chemical universe database GDB-17, J. Chem. Inf. Model. 52, 2864–2875, 2012.\n",
    "R. Ramakrishnan, P. O. Dral, M. Rupp, O. A. von Lilienfeld, Quantum chemistry structures and properties of 134 kilo molecules, Scientific Data 1, 140022, 2014. [bibtex]"
   ]
  },
  {
   "cell_type": "code",
   "execution_count": 10,
   "metadata": {},
   "outputs": [],
   "source": [
    "import pandas as pd\n",
    "\n",
    "def get_cp_fingerprint():\n",
    "    cp_input = pd.read_csv('./Data/ohfeatures.csv')\n",
    "    cp_features = cp_input.iloc[:,cp_input.columns != 'smiles']\n",
    "    return cp_features"
   ]
  }
 ],
 "metadata": {
  "kernelspec": {
   "display_name": "chemprop",
   "language": "python",
   "name": "chemprop"
  },
  "language_info": {
   "codemirror_mode": {
    "name": "ipython",
    "version": 3
   },
   "file_extension": ".py",
   "mimetype": "text/x-python",
   "name": "python",
   "nbconvert_exporter": "python",
   "pygments_lexer": "ipython3",
   "version": "3.8.5"
  }
 },
 "nbformat": 4,
 "nbformat_minor": 2
}
